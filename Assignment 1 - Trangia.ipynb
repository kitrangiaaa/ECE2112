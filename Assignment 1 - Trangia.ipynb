{
 "cells": [
  {
   "cell_type": "markdown",
   "id": "f6cd54b1-125b-43e3-b4da-6fc8765d8862",
   "metadata": {},
   "source": [
    "#### <center> EXPERIMENT 1\n",
    "## <center> INTRODUCTION TO PYTHON PROGRAMMING"
   ]
  },
  {
   "cell_type": "markdown",
   "id": "e0f1ca31-c73c-496f-b9c9-775a661a957e",
   "metadata": {},
   "source": [
    "##### Name: Trangia, Klein Isshi G.\n",
    "##### Section: 2ECE-D\n",
    "##### Date Submitted: August 29, 2024"
   ]
  },
  {
   "cell_type": "markdown",
   "id": "a2c952fc-7745-4079-9785-d4b6f93a8529",
   "metadata": {},
   "source": [
    "#### __1. ALPHABET SOUP PROBLEM__: Create a function that takes a string and returns a string with its letters in alphabetical order."
   ]
  },
  {
   "cell_type": "code",
   "execution_count": 418,
   "id": "85c56061-d25e-41df-8469-80db865baea6",
   "metadata": {},
   "outputs": [],
   "source": [
    "def alphabet_soup (s):\n",
    "    str =''.join(sorted(s))\n",
    "    return str"
   ]
  },
  {
   "cell_type": "code",
   "execution_count": 419,
   "id": "c7aa14c3-e5a3-4a97-8f32-e731e6b018f4",
   "metadata": {},
   "outputs": [
    {
     "name": "stdout",
     "output_type": "stream",
     "text": [
      "eikln\n"
     ]
    }
   ],
   "source": [
    "print (alphabet_soup(\"klein\"))"
   ]
  },
  {
   "cell_type": "code",
   "execution_count": 420,
   "id": "05b2854c-5d1a-4e55-83ce-aafbb893b520",
   "metadata": {},
   "outputs": [
    {
     "name": "stdout",
     "output_type": "stream",
     "text": [
      "aeilm\n"
     ]
    }
   ],
   "source": [
    "print (alphabet_soup(\"amiel\"))"
   ]
  },
  {
   "cell_type": "markdown",
   "id": "bf076f0d-982d-4872-b564-769f79c2d292",
   "metadata": {},
   "source": [
    "#### __2. EMOTICON PROBLEM__: Create a function that changes specific words into emoticons. Given a sentence as a string, replace the words smile, grin, sad, and mad with their corresponding emoticon:"
   ]
  },
  {
   "cell_type": "code",
   "execution_count": 422,
   "id": "9ddca92f-aa2d-4a16-a049-38364ee2c994",
   "metadata": {},
   "outputs": [
    {
     "name": "stdin",
     "output_type": "stream",
     "text": [
      "Type here: I smile, I grin, I'm sad, and I'm mad\n"
     ]
    },
    {
     "name": "stdout",
     "output_type": "stream",
     "text": [
      "I :), I :D, I'm :((, and I'm >:(\n"
     ]
    }
   ],
   "source": [
    "e = input (\"Type here:\")\n",
    "\n",
    "def emotify (e):\n",
    "    e = e.replace (\"smile\",\":)\")\n",
    "    e = e.replace (\"grin\",\":D\")\n",
    "    e = e.replace (\"sad\",\":((\")\n",
    "    e = e.replace (\"mad\",\">:(\")\n",
    "    return e\n",
    "print (emotify(e))"
   ]
  },
  {
   "cell_type": "markdown",
   "id": "021ad316-9232-4ff9-8e2c-6e485af14c0e",
   "metadata": {},
   "source": [
    "#### __3. UNPACKING LIST PROBLEM__: Unpack the list write your code here into three variables, being first, middle, and last, with middle being everything in between the first and last element. Then print all three variables."
   ]
  },
  {
   "cell_type": "code",
   "execution_count": 424,
   "id": "3c966f01-7e04-4b92-9cd7-5b33bcf2f932",
   "metadata": {},
   "outputs": [
    {
     "name": "stdout",
     "output_type": "stream",
     "text": [
      "first: purple\n",
      "middle: ['baby pink', 'baby blue', 'white', 'black']\n",
      "last: blue gray\n"
     ]
    }
   ],
   "source": [
    "c = [\"purple\",\"baby pink\",\"baby blue\",\"white\",\"black\",\"blue gray\"]\n",
    "print(\"first:\",c[0])\n",
    "print(\"middle:\",c[1:5])\n",
    "print(\"last:\",c[-1])"
   ]
  }
 ],
 "metadata": {
  "kernelspec": {
   "display_name": "Python 3 (ipykernel)",
   "language": "python",
   "name": "python3"
  },
  "language_info": {
   "codemirror_mode": {
    "name": "ipython",
    "version": 3
   },
   "file_extension": ".py",
   "mimetype": "text/x-python",
   "name": "python",
   "nbconvert_exporter": "python",
   "pygments_lexer": "ipython3",
   "version": "3.12.4"
  }
 },
 "nbformat": 4,
 "nbformat_minor": 5
}
