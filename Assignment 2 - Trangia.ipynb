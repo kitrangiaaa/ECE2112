{
 "cells": [
  {
   "cell_type": "markdown",
   "id": "b0aa4880-fb1f-43b8-ba3c-44f60258ac13",
   "metadata": {},
   "source": [
    "#### <center> EXPERIMENT 2\n",
    "## <center> NUMERICAL PYTHON (NUMPY)"
   ]
  },
  {
   "cell_type": "markdown",
   "id": "8cc3ca7c-744d-400e-ad67-f2e3e2051809",
   "metadata": {},
   "source": [
    "##### Name: Trangia, Klein Isshi G.\n",
    "##### Section: 2ECE-D\n",
    "##### Date Submitted: September 5, 2024"
   ]
  },
  {
   "cell_type": "markdown",
   "id": "64ab44a1-4145-4da4-899c-7fa1ede5709f",
   "metadata": {},
   "source": [
    "### __NORMALIZATION PROBLEM__"
   ]
  },
  {
   "cell_type": "code",
   "execution_count": 8,
   "id": "3841c383-bfb9-4b3a-9323-0ec628e69715",
   "metadata": {},
   "outputs": [],
   "source": [
    "import numpy as np"
   ]
  },
  {
   "cell_type": "code",
   "execution_count": 10,
   "id": "20db7e02-ed7d-437f-bef1-39fc32f3d24b",
   "metadata": {},
   "outputs": [],
   "source": [
    "x = np.random.random((5,5))"
   ]
  },
  {
   "cell_type": "code",
   "execution_count": 12,
   "id": "276391c4-ffb1-4042-a227-b1654d9c98ba",
   "metadata": {},
   "outputs": [
    {
     "name": "stdout",
     "output_type": "stream",
     "text": [
      "[[0.02422324 0.14676688 0.90847636 0.93666911 0.39985048]\n",
      " [0.15663636 0.10993361 0.89214805 0.84252538 0.70655023]\n",
      " [0.0693863  0.70711458 0.43923381 0.49077358 0.69919669]\n",
      " [0.68087253 0.59792772 0.2756028  0.67996976 0.76115538]\n",
      " [0.76490259 0.9345008  0.68591964 0.29857846 0.86051929]]\n"
     ]
    }
   ],
   "source": [
    "print (x)"
   ]
  },
  {
   "cell_type": "code",
   "execution_count": 14,
   "id": "3d25385f-3bef-402c-8f13-fa238930afbf",
   "metadata": {},
   "outputs": [],
   "source": [
    "a = x.mean()"
   ]
  },
  {
   "cell_type": "code",
   "execution_count": 16,
   "id": "acfaa106-bbba-4ee0-b764-256708714cdf",
   "metadata": {},
   "outputs": [],
   "source": [
    "b = x.std()"
   ]
  },
  {
   "cell_type": "code",
   "execution_count": 26,
   "id": "ce9b7c48-9b53-4c00-82bb-4b9bf6ef436e",
   "metadata": {},
   "outputs": [],
   "source": [
    "normal = (x-a)/b"
   ]
  },
  {
   "cell_type": "code",
   "execution_count": 28,
   "id": "f40b8174-6192-4485-9b5a-d90eaa9d25ae",
   "metadata": {},
   "outputs": [
    {
     "name": "stdout",
     "output_type": "stream",
     "text": [
      "[[-1.84371517 -1.42419269  1.18348466  1.28000126 -0.55777263]\n",
      " [-1.39040496 -1.5502897   1.12758546  0.95770453  0.49219984]\n",
      " [-1.68910153  0.49413188 -0.4229456  -0.24650157  0.46702534]\n",
      " [ 0.40429344  0.12033568 -0.98312884  0.40120285  0.67913807]\n",
      " [ 0.69196647  1.27257813  0.42157197 -0.90447273  1.01930584]]\n"
     ]
    }
   ],
   "source": [
    "print (normal)"
   ]
  },
  {
   "cell_type": "code",
   "execution_count": 30,
   "id": "87ad42d6-ee30-486f-b63a-2cdda8a9f076",
   "metadata": {},
   "outputs": [],
   "source": [
    "np.save ('X_normalized.npy',normal)"
   ]
  },
  {
   "cell_type": "markdown",
   "id": "f8751661-1058-422d-a397-40b304f0bf50",
   "metadata": {},
   "source": [
    "### __DIVISIBLE BY 3 PROBLEM__"
   ]
  },
  {
   "cell_type": "code",
   "execution_count": 84,
   "id": "17b3f330-ae8b-4097-96c7-e7bd4949ceca",
   "metadata": {},
   "outputs": [
    {
     "name": "stdout",
     "output_type": "stream",
     "text": [
      "[[    1     4     9    16    25    36    49    64    81   100]\n",
      " [  121   144   169   196   225   256   289   324   361   400]\n",
      " [  441   484   529   576   625   676   729   784   841   900]\n",
      " [  961  1024  1089  1156  1225  1296  1369  1444  1521  1600]\n",
      " [ 1681  1764  1849  1936  2025  2116  2209  2304  2401  2500]\n",
      " [ 2601  2704  2809  2916  3025  3136  3249  3364  3481  3600]\n",
      " [ 3721  3844  3969  4096  4225  4356  4489  4624  4761  4900]\n",
      " [ 5041  5184  5329  5476  5625  5776  5929  6084  6241  6400]\n",
      " [ 6561  6724  6889  7056  7225  7396  7569  7744  7921  8100]\n",
      " [ 8281  8464  8649  8836  9025  9216  9409  9604  9801 10000]]\n"
     ]
    }
   ],
   "source": [
    "k = np.arange(1,101)\n",
    "i = np.square (k)\n",
    "g = i.reshape (10,10)\n",
    "\n",
    "print (g)"
   ]
  },
  {
   "cell_type": "code",
   "execution_count": 86,
   "id": "c03f9b9a-68ba-4344-8202-868846e63462",
   "metadata": {},
   "outputs": [
    {
     "name": "stdout",
     "output_type": "stream",
     "text": [
      "[   9   36   81  144  225  324  441  576  729  900 1089 1296 1521 1764\n",
      " 2025 2304 2601 2916 3249 3600 3969 4356 4761 5184 5625 6084 6561 7056\n",
      " 7569 8100 8649 9216 9801]\n"
     ]
    }
   ],
   "source": [
    "t = g [g%3==0]\n",
    "\n",
    "print (t)"
   ]
  },
  {
   "cell_type": "code",
   "execution_count": 88,
   "id": "cce87772-8f7a-4984-a56a-f906b81f2461",
   "metadata": {},
   "outputs": [],
   "source": [
    "np.save ('div_by_3.npy',t)"
   ]
  }
 ],
 "metadata": {
  "kernelspec": {
   "display_name": "Python 3 (ipykernel)",
   "language": "python",
   "name": "python3"
  },
  "language_info": {
   "codemirror_mode": {
    "name": "ipython",
    "version": 3
   },
   "file_extension": ".py",
   "mimetype": "text/x-python",
   "name": "python",
   "nbconvert_exporter": "python",
   "pygments_lexer": "ipython3",
   "version": "3.12.4"
  }
 },
 "nbformat": 4,
 "nbformat_minor": 5
}
